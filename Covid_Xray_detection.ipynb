{
  "nbformat": 4,
  "nbformat_minor": 0,
  "metadata": {
    "colab": {
      "name": "Covid_Xray detection.ipynb",
      "provenance": [],
      "authorship_tag": "ABX9TyN/TMseN1jZ89OYPLAzOlLQ",
      "include_colab_link": true
    },
    "kernelspec": {
      "name": "python3",
      "display_name": "Python 3"
    }
  },
  "cells": [
    {
      "cell_type": "markdown",
      "metadata": {
        "id": "view-in-github",
        "colab_type": "text"
      },
      "source": [
        "<a href=\"https://colab.research.google.com/github/WOLFIEEEE/Covid_Xray-model/blob/main/Covid_Xray_detection.ipynb\" target=\"_parent\"><img src=\"https://colab.research.google.com/assets/colab-badge.svg\" alt=\"Open In Colab\"/></a>"
      ]
    },
    {
      "cell_type": "code",
      "metadata": {
        "colab": {
          "base_uri": "https://localhost:8080/"
        },
        "id": "Z5pjwK_EmwL3",
        "outputId": "12c47c67-2874-4729-e19d-02a251ff1b86"
      },
      "source": [
        "from google.colab import drive\r\n",
        "\r\n",
        "drive.mount('/content/gdrive',force_remount=True)"
      ],
      "execution_count": null,
      "outputs": [
        {
          "output_type": "stream",
          "text": [
            "Mounted at /content/gdrive\n"
          ],
          "name": "stdout"
        }
      ]
    },
    {
      "cell_type": "code",
      "metadata": {
        "colab": {
          "base_uri": "https://localhost:8080/"
        },
        "id": "N3nyHUDAna0_",
        "outputId": "10df6f73-21e4-422d-b8cd-915bdd7cdd72"
      },
      "source": [
        "!unzip \"/content/gdrive/MyDrive/Covid-Model_dataset.zip\""
      ],
      "execution_count": null,
      "outputs": [
        {
          "output_type": "stream",
          "text": [
            "Archive:  /content/gdrive/MyDrive/Covid-Model_dataset.zip\n",
            "   creating: Covid-Model_dataset/Test/\n",
            "   creating: Covid-Model_dataset/Test/Normal/\n",
            "  inflating: Covid-Model_dataset/Test/Normal/IM-0115-0001.jpeg  \n",
            "  inflating: Covid-Model_dataset/Test/Normal/IM-0117-0001.jpeg  \n",
            "  inflating: Covid-Model_dataset/Test/Normal/IM-0119-0001.jpeg  \n",
            "  inflating: Covid-Model_dataset/Test/Normal/IM-0122-0001.jpeg  \n",
            "  inflating: Covid-Model_dataset/Test/Normal/IM-0125-0001.jpeg  \n",
            "  inflating: Covid-Model_dataset/Test/Normal/IM-0127-0001.jpeg  \n",
            "  inflating: Covid-Model_dataset/Test/Normal/IM-0128-0001.jpeg  \n",
            "  inflating: Covid-Model_dataset/Test/Normal/IM-0129-0001.jpeg  \n",
            "  inflating: Covid-Model_dataset/Test/Normal/IM-0131-0001.jpeg  \n",
            "  inflating: Covid-Model_dataset/Test/Normal/IM-0133-0001.jpeg  \n",
            "  inflating: Covid-Model_dataset/Test/Normal/IM-0135-0001.jpeg  \n",
            "  inflating: Covid-Model_dataset/Test/Normal/IM-0137-0001.jpeg  \n",
            "  inflating: Covid-Model_dataset/Test/Normal/IM-0140-0001.jpeg  \n",
            "  inflating: Covid-Model_dataset/Test/Normal/IM-0141-0001.jpeg  \n",
            "  inflating: Covid-Model_dataset/Test/Normal/IM-0143-0001.jpeg  \n",
            "  inflating: Covid-Model_dataset/Test/Normal/IM-0145-0001.jpeg  \n",
            "  inflating: Covid-Model_dataset/Test/Normal/IM-0147-0001.jpeg  \n",
            "  inflating: Covid-Model_dataset/Test/Normal/IM-0149-0001.jpeg  \n",
            "  inflating: Covid-Model_dataset/Test/Normal/IM-0151-0001.jpeg  \n",
            "  inflating: Covid-Model_dataset/Test/Normal/IM-0152-0001.jpeg  \n",
            "  inflating: Covid-Model_dataset/Test/Normal/IM-0154-0001.jpeg  \n",
            "  inflating: Covid-Model_dataset/Test/Normal/IM-0156-0001.jpeg  \n",
            "  inflating: Covid-Model_dataset/Test/Normal/IM-0158-0001.jpeg  \n",
            "  inflating: Covid-Model_dataset/Test/Normal/IM-0160-0001.jpeg  \n",
            "  inflating: Covid-Model_dataset/Test/Normal/IM-0162-0001.jpeg  \n",
            "  inflating: Covid-Model_dataset/Test/Normal/IM-0164-0001.jpeg  \n",
            "  inflating: Covid-Model_dataset/Test/Normal/IM-0166-0001.jpeg  \n",
            "  inflating: Covid-Model_dataset/Test/Normal/IM-0168-0001.jpeg  \n",
            "  inflating: Covid-Model_dataset/Test/Normal/IM-0170-0001.jpeg  \n",
            "  inflating: Covid-Model_dataset/Test/Normal/IM-0172-0001.jpeg  \n",
            "  inflating: Covid-Model_dataset/Test/Normal/IM-0176-0001.jpeg  \n",
            "  inflating: Covid-Model_dataset/Test/Normal/IM-0177-0001.jpeg  \n",
            "  inflating: Covid-Model_dataset/Test/Normal/IM-0178-0001.jpeg  \n",
            "  inflating: Covid-Model_dataset/Test/Normal/IM-0180-0001.jpeg  \n",
            "  inflating: Covid-Model_dataset/Test/Normal/IM-0182-0001.jpeg  \n",
            "  inflating: Covid-Model_dataset/Test/Normal/IM-0183-0001.jpeg  \n",
            "   creating: Covid-Model_dataset/Test/positive/\n",
            "  inflating: Covid-Model_dataset/Test/positive/01E392EE-69F9-4E33-BFCE-E5C968654078.jpeg  \n",
            "  inflating: Covid-Model_dataset/Test/positive/03BF7561-A9BA-4C3C-B8A0-D3E585F73F3C.jpeg  \n",
            "  inflating: Covid-Model_dataset/Test/positive/0a7faa2a.jpg  \n",
            "  inflating: Covid-Model_dataset/Test/positive/1.CXRCTThoraximagesofCOVID-19fromSingapore.pdf-000-fig1a.png  \n",
            "  inflating: Covid-Model_dataset/Test/positive/1.CXRCTThoraximagesofCOVID-19fromSingapore.pdf-000-fig1b.png  \n",
            "  inflating: Covid-Model_dataset/Test/positive/1.CXRCTThoraximagesofCOVID-19fromSingapore.pdf-001-fig2a.png  \n",
            "  inflating: Covid-Model_dataset/Test/positive/1.CXRCTThoraximagesofCOVID-19fromSingapore.pdf-001-fig2b.png  \n",
            "  inflating: Covid-Model_dataset/Test/positive/1.CXRCTThoraximagesofCOVID-19fromSingapore.pdf-002-fig3a.png  \n",
            "  inflating: Covid-Model_dataset/Test/positive/1.CXRCTThoraximagesofCOVID-19fromSingapore.pdf-002-fig3b.png  \n",
            "  inflating: Covid-Model_dataset/Test/positive/1.CXRCTThoraximagesofCOVID-19fromSingapore.pdf-003-fig4a.png  \n",
            "  inflating: Covid-Model_dataset/Test/positive/1.CXRCTThoraximagesofCOVID-19fromSingapore.pdf-003-fig4b.png  \n",
            "  inflating: Covid-Model_dataset/Test/positive/1B734A89-A1BF-49A8-A1D3-66FAFA4FAC5D.jpeg  \n",
            "  inflating: Covid-Model_dataset/Test/positive/1-s2.0-S0140673620303706-fx1_lrg.jpg  \n",
            "  inflating: Covid-Model_dataset/Test/positive/1-s2.0-S1684118220300608-main.pdf-001.jpg  \n",
            "  inflating: Covid-Model_dataset/Test/positive/1-s2.0-S1684118220300608-main.pdf-002.jpg  \n",
            "  inflating: Covid-Model_dataset/Test/positive/1-s2.0-S1684118220300682-main.pdf-002-a1.png  \n",
            "  inflating: Covid-Model_dataset/Test/positive/1-s2.0-S1684118220300682-main.pdf-002-a2.png  \n",
            "  inflating: Covid-Model_dataset/Test/positive/1-s2.0-S1684118220300682-main.pdf-003-b1.png  \n",
            "  inflating: Covid-Model_dataset/Test/positive/1-s2.0-S1684118220300682-main.pdf-003-b2.png  \n",
            "  inflating: Covid-Model_dataset/Test/positive/1-s2.0-S2214250920300834-gr1_lrg-b.png  \n",
            "  inflating: Covid-Model_dataset/Test/positive/1-s2.0-S2214250920300834-gr1_lrg-c.png  \n",
            "  inflating: Covid-Model_dataset/Test/positive/1-s2.0-S2387020620301959-gr4_lrg-b.png  \n",
            "  inflating: Covid-Model_dataset/Test/positive/1-s2.0-S2387020620301959-gr4_lrg-c.png  \n",
            "  inflating: Covid-Model_dataset/Test/positive/2C26F453-AF3B-4517-BB9E-802CF2179543.jpeg  \n",
            "  inflating: Covid-Model_dataset/Test/positive/2cd63b76.jpg  \n",
            "  inflating: Covid-Model_dataset/Test/positive/2-chest-filmc.jpg  \n",
            "  inflating: Covid-Model_dataset/Test/positive/2edb88df42cab5e5fbc18b3965e0bd_jumbo.jpeg  \n",
            "  inflating: Covid-Model_dataset/Test/positive/3b46de94.jpg  \n",
            "  inflating: Covid-Model_dataset/Test/positive/4d98e1de.jpg  \n",
            "  inflating: Covid-Model_dataset/Test/positive/4e43e48d52c9e2d4c6c1fb9bc1544f_jumbo.jpeg  \n",
            "  inflating: Covid-Model_dataset/Test/positive/5f619d7e.jpg  \n",
            "  inflating: Covid-Model_dataset/Test/positive/6b3bdbc31f65230b8cdcc3cef5f8ba8a-40ac-0.jpg  \n",
            "  inflating: Covid-Model_dataset/Test/positive/6b44464d-73a7-4cf3-bbb6-ffe7168300e3.annot.original.jpeg  \n",
            "  inflating: Covid-Model_dataset/Test/positive/6C94A287-C059-46A0-8600-AFB95F4727B7.jpeg  \n",
            "  inflating: Covid-Model_dataset/Test/positive/6CB4EFC6-68FA-4CD5-940C-BEFA8DAFE9A7.jpeg  \n",
            "  inflating: Covid-Model_dataset/Test/positive/7AF6C1AF-D249-4BD2-8C26-449304105D03.jpeg  \n",
            "   creating: Covid-Model_dataset/Train/\n",
            "   creating: Covid-Model_dataset/Train/Normal/\n",
            "  inflating: Covid-Model_dataset/Train/Normal/IM-0185-0001.jpeg  \n",
            "  inflating: Covid-Model_dataset/Train/Normal/IM-0187-0001.jpeg  \n",
            "  inflating: Covid-Model_dataset/Train/Normal/IM-0189-0001.jpeg  \n",
            "  inflating: Covid-Model_dataset/Train/Normal/IM-0191-0001.jpeg  \n",
            "  inflating: Covid-Model_dataset/Train/Normal/IM-0193-0001.jpeg  \n",
            "  inflating: Covid-Model_dataset/Train/Normal/IM-0195-0001.jpeg  \n",
            "  inflating: Covid-Model_dataset/Train/Normal/IM-0199-0001.jpeg  \n",
            "  inflating: Covid-Model_dataset/Train/Normal/IM-0201-0001.jpeg  \n",
            "  inflating: Covid-Model_dataset/Train/Normal/IM-0203-0001.jpeg  \n",
            "  inflating: Covid-Model_dataset/Train/Normal/IM-0205-0001.jpeg  \n",
            "  inflating: Covid-Model_dataset/Train/Normal/IM-0206-0001.jpeg  \n",
            "  inflating: Covid-Model_dataset/Train/Normal/IM-0207-0001.jpeg  \n",
            "  inflating: Covid-Model_dataset/Train/Normal/IM-0209-0001.jpeg  \n",
            "  inflating: Covid-Model_dataset/Train/Normal/IM-0210-0001.jpeg  \n",
            "  inflating: Covid-Model_dataset/Train/Normal/IM-0211-0001.jpeg  \n",
            "  inflating: Covid-Model_dataset/Train/Normal/IM-0213-0001.jpeg  \n",
            "  inflating: Covid-Model_dataset/Train/Normal/IM-0214-0001.jpeg  \n",
            "  inflating: Covid-Model_dataset/Train/Normal/IM-0215-0001.jpeg  \n",
            "  inflating: Covid-Model_dataset/Train/Normal/IM-0216-0001.jpeg  \n",
            "  inflating: Covid-Model_dataset/Train/Normal/IM-0217-0001.jpeg  \n",
            "  inflating: Covid-Model_dataset/Train/Normal/IM-0218-0001.jpeg  \n",
            "  inflating: Covid-Model_dataset/Train/Normal/IM-0219-0001.jpeg  \n",
            "  inflating: Covid-Model_dataset/Train/Normal/IM-0220-0001.jpeg  \n",
            "  inflating: Covid-Model_dataset/Train/Normal/IM-0221-0001.jpeg  \n",
            "  inflating: Covid-Model_dataset/Train/Normal/IM-0222-0001.jpeg  \n",
            "  inflating: Covid-Model_dataset/Train/Normal/IM-0223-0001.jpeg  \n",
            "  inflating: Covid-Model_dataset/Train/Normal/IM-0224-0001.jpeg  \n",
            "  inflating: Covid-Model_dataset/Train/Normal/IM-0225-0001.jpeg  \n",
            "  inflating: Covid-Model_dataset/Train/Normal/IM-0226-0001.jpeg  \n",
            "  inflating: Covid-Model_dataset/Train/Normal/IM-0227-0001.jpeg  \n",
            "  inflating: Covid-Model_dataset/Train/Normal/IM-0228-0001.jpeg  \n",
            "  inflating: Covid-Model_dataset/Train/Normal/IM-0229-0001.jpeg  \n",
            "  inflating: Covid-Model_dataset/Train/Normal/IM-0230-0001.jpeg  \n",
            "  inflating: Covid-Model_dataset/Train/Normal/IM-0231-0001.jpeg  \n",
            "  inflating: Covid-Model_dataset/Train/Normal/IM-0234-0001.jpeg  \n",
            "  inflating: Covid-Model_dataset/Train/Normal/IM-0235-0001.jpeg  \n",
            "  inflating: Covid-Model_dataset/Train/Normal/IM-0236-0001.jpeg  \n",
            "  inflating: Covid-Model_dataset/Train/Normal/IM-0237-0001.jpeg  \n",
            "  inflating: Covid-Model_dataset/Train/Normal/IM-0238-0001.jpeg  \n",
            "  inflating: Covid-Model_dataset/Train/Normal/IM-0239-0001.jpeg  \n",
            "  inflating: Covid-Model_dataset/Train/Normal/IM-0240-0001.jpeg  \n",
            "  inflating: Covid-Model_dataset/Train/Normal/IM-0241-0001.jpeg  \n",
            "  inflating: Covid-Model_dataset/Train/Normal/IM-0242-0001.jpeg  \n",
            "  inflating: Covid-Model_dataset/Train/Normal/IM-0243-0001.jpeg  \n",
            "  inflating: Covid-Model_dataset/Train/Normal/IM-0244-0001.jpeg  \n",
            "  inflating: Covid-Model_dataset/Train/Normal/IM-0245-0001.jpeg  \n",
            "  inflating: Covid-Model_dataset/Train/Normal/IM-0248-0001.jpeg  \n",
            "  inflating: Covid-Model_dataset/Train/Normal/IM-0249-0001.jpeg  \n",
            "  inflating: Covid-Model_dataset/Train/Normal/IM-0250-0001.jpeg  \n",
            "  inflating: Covid-Model_dataset/Train/Normal/IM-0251-0001.jpeg  \n",
            "  inflating: Covid-Model_dataset/Train/Normal/IM-0253-0001.jpeg  \n",
            "  inflating: Covid-Model_dataset/Train/Normal/IM-0255-0001.jpeg  \n",
            "  inflating: Covid-Model_dataset/Train/Normal/IM-0256-0001.jpeg  \n",
            "  inflating: Covid-Model_dataset/Train/Normal/IM-0257-0001.jpeg  \n",
            "  inflating: Covid-Model_dataset/Train/Normal/IM-0261-0001.jpeg  \n",
            "  inflating: Covid-Model_dataset/Train/Normal/IM-0262-0001.jpeg  \n",
            "  inflating: Covid-Model_dataset/Train/Normal/IM-0264-0001.jpeg  \n",
            "  inflating: Covid-Model_dataset/Train/Normal/IM-0265-0001.jpeg  \n",
            "  inflating: Covid-Model_dataset/Train/Normal/IM-0266-0001.jpeg  \n",
            "  inflating: Covid-Model_dataset/Train/Normal/IM-0268-0001.jpeg  \n",
            "  inflating: Covid-Model_dataset/Train/Normal/IM-0269-0001.jpeg  \n",
            "  inflating: Covid-Model_dataset/Train/Normal/IM-0270-0001.jpeg  \n",
            "  inflating: Covid-Model_dataset/Train/Normal/IM-0272-0001.jpeg  \n",
            "  inflating: Covid-Model_dataset/Train/Normal/IM-0273-0001.jpeg  \n",
            "  inflating: Covid-Model_dataset/Train/Normal/IM-0274-0001.jpeg  \n",
            "  inflating: Covid-Model_dataset/Train/Normal/IM-0275-0001.jpeg  \n",
            "  inflating: Covid-Model_dataset/Train/Normal/IM-0276-0001.jpeg  \n",
            "  inflating: Covid-Model_dataset/Train/Normal/IM-0277-0001.jpeg  \n",
            "  inflating: Covid-Model_dataset/Train/Normal/IM-0278-0001.jpeg  \n",
            "  inflating: Covid-Model_dataset/Train/Normal/IM-0279-0001.jpeg  \n",
            "  inflating: Covid-Model_dataset/Train/Normal/IM-0280-0001.jpeg  \n",
            "  inflating: Covid-Model_dataset/Train/Normal/IM-0282-0001.jpeg  \n",
            "  inflating: Covid-Model_dataset/Train/Normal/IM-0283-0001.jpeg  \n",
            "  inflating: Covid-Model_dataset/Train/Normal/IM-0285-0001.jpeg  \n",
            "  inflating: Covid-Model_dataset/Train/Normal/IM-0286-0001.jpeg  \n",
            "  inflating: Covid-Model_dataset/Train/Normal/IM-0288-0001.jpeg  \n",
            "  inflating: Covid-Model_dataset/Train/Normal/IM-0289-0001.jpeg  \n",
            "  inflating: Covid-Model_dataset/Train/Normal/IM-0290-0001.jpeg  \n",
            "  inflating: Covid-Model_dataset/Train/Normal/IM-0291-0001.jpeg  \n",
            "  inflating: Covid-Model_dataset/Train/Normal/IM-0292-0001.jpeg  \n",
            "  inflating: Covid-Model_dataset/Train/Normal/IM-0293-0001.jpeg  \n",
            "  inflating: Covid-Model_dataset/Train/Normal/IM-0294-0001.jpeg  \n",
            "  inflating: Covid-Model_dataset/Train/Normal/IM-0295-0001.jpeg  \n",
            "  inflating: Covid-Model_dataset/Train/Normal/IM-0297-0001.jpeg  \n",
            "  inflating: Covid-Model_dataset/Train/Normal/IM-0298-0001.jpeg  \n",
            "  inflating: Covid-Model_dataset/Train/Normal/IM-0299-0001.jpeg  \n",
            "  inflating: Covid-Model_dataset/Train/Normal/IM-0300-0001.jpeg  \n",
            "  inflating: Covid-Model_dataset/Train/Normal/IM-0301-0001.jpeg  \n",
            "  inflating: Covid-Model_dataset/Train/Normal/IM-0302-0001.jpeg  \n",
            "  inflating: Covid-Model_dataset/Train/Normal/IM-0303-0001.jpeg  \n",
            "  inflating: Covid-Model_dataset/Train/Normal/IM-0304-0001.jpeg  \n",
            "  inflating: Covid-Model_dataset/Train/Normal/IM-0305-0001.jpeg  \n",
            "  inflating: Covid-Model_dataset/Train/Normal/IM-0306-0001.jpeg  \n",
            "  inflating: Covid-Model_dataset/Train/Normal/IM-0307-0001.jpeg  \n",
            "  inflating: Covid-Model_dataset/Train/Normal/IM-0308-0001.jpeg  \n",
            "  inflating: Covid-Model_dataset/Train/Normal/IM-0309-0001.jpeg  \n",
            "  inflating: Covid-Model_dataset/Train/Normal/IM-0311-0001.jpeg  \n",
            "  inflating: Covid-Model_dataset/Train/Normal/IM-0312-0001.jpeg  \n",
            "  inflating: Covid-Model_dataset/Train/Normal/IM-0313-0001.jpeg  \n",
            "  inflating: Covid-Model_dataset/Train/Normal/IM-0314-0001.jpeg  \n",
            "  inflating: Covid-Model_dataset/Train/Normal/IM-0315-0001.jpeg  \n",
            "  inflating: Covid-Model_dataset/Train/Normal/IM-0316-0001.jpeg  \n",
            "  inflating: Covid-Model_dataset/Train/Normal/IM-0317-0001.jpeg  \n",
            "  inflating: Covid-Model_dataset/Train/Normal/IM-0318-0001.jpeg  \n",
            "  inflating: Covid-Model_dataset/Train/Normal/IM-0319-0001.jpeg  \n",
            "  inflating: Covid-Model_dataset/Train/Normal/IM-0320-0001.jpeg  \n",
            "  inflating: Covid-Model_dataset/Train/Normal/IM-0323-0001.jpeg  \n",
            "  inflating: Covid-Model_dataset/Train/Normal/IM-0324-0001.jpeg  \n",
            "  inflating: Covid-Model_dataset/Train/Normal/IM-0325-0001.jpeg  \n",
            "  inflating: Covid-Model_dataset/Train/Normal/IM-0326-0001.jpeg  \n",
            "  inflating: Covid-Model_dataset/Train/Normal/IM-0327-0001.jpeg  \n",
            "  inflating: Covid-Model_dataset/Train/Normal/IM-0329-0001.jpeg  \n",
            "  inflating: Covid-Model_dataset/Train/Normal/IM-0330-0001.jpeg  \n",
            "  inflating: Covid-Model_dataset/Train/Normal/IM-0331-0001.jpeg  \n",
            "  inflating: Covid-Model_dataset/Train/Normal/IM-0332-0001.jpeg  \n",
            "  inflating: Covid-Model_dataset/Train/Normal/IM-0333-0001.jpeg  \n",
            "  inflating: Covid-Model_dataset/Train/Normal/IM-0335-0001.jpeg  \n",
            "  inflating: Covid-Model_dataset/Train/Normal/IM-0337-0001.jpeg  \n",
            "  inflating: Covid-Model_dataset/Train/Normal/IM-0338-0001.jpeg  \n",
            "  inflating: Covid-Model_dataset/Train/Normal/IM-0339-0001.jpeg  \n",
            "  inflating: Covid-Model_dataset/Train/Normal/IM-0340-0001.jpeg  \n",
            "  inflating: Covid-Model_dataset/Train/Normal/IM-0341-0001.jpeg  \n",
            "  inflating: Covid-Model_dataset/Train/Normal/IM-0343-0001.jpeg  \n",
            "  inflating: Covid-Model_dataset/Train/Normal/IM-0345-0001.jpeg  \n",
            "  inflating: Covid-Model_dataset/Train/Normal/IM-0346-0001.jpeg  \n",
            "  inflating: Covid-Model_dataset/Train/Normal/IM-0347-0001.jpeg  \n",
            "  inflating: Covid-Model_dataset/Train/Normal/IM-0348-0001.jpeg  \n",
            "  inflating: Covid-Model_dataset/Train/Normal/IM-0349-0001.jpeg  \n",
            "  inflating: Covid-Model_dataset/Train/Normal/IM-0350-0001.jpeg  \n",
            "  inflating: Covid-Model_dataset/Train/Normal/IM-0351-0001.jpeg  \n",
            "  inflating: Covid-Model_dataset/Train/Normal/IM-0353-0001.jpeg  \n",
            "  inflating: Covid-Model_dataset/Train/Normal/IM-0354-0001.jpeg  \n",
            "  inflating: Covid-Model_dataset/Train/Normal/IM-0355-0001.jpeg  \n",
            "  inflating: Covid-Model_dataset/Train/Normal/IM-0356-0001.jpeg  \n",
            "  inflating: Covid-Model_dataset/Train/Normal/IM-0357-0001.jpeg  \n",
            "  inflating: Covid-Model_dataset/Train/Normal/IM-0358-0001.jpeg  \n",
            "  inflating: Covid-Model_dataset/Train/Normal/IM-0359-0001.jpeg  \n",
            "  inflating: Covid-Model_dataset/Train/Normal/IM-0361-0001.jpeg  \n",
            "  inflating: Covid-Model_dataset/Train/Normal/IM-0362-0001.jpeg  \n",
            "  inflating: Covid-Model_dataset/Train/Normal/IM-0363-0001.jpeg  \n",
            "  inflating: Covid-Model_dataset/Train/Normal/IM-0364-0001.jpeg  \n",
            "  inflating: Covid-Model_dataset/Train/Normal/IM-0365-0001.jpeg  \n",
            "  inflating: Covid-Model_dataset/Train/Normal/IM-0367-0001.jpeg  \n",
            "  inflating: Covid-Model_dataset/Train/Normal/IM-0368-0001.jpeg  \n",
            "  inflating: Covid-Model_dataset/Train/Normal/IM-0369-0001.jpeg  \n",
            "  inflating: Covid-Model_dataset/Train/Normal/IM-0370-0001.jpeg  \n",
            "  inflating: Covid-Model_dataset/Train/Normal/IM-0371-0001.jpeg  \n",
            "  inflating: Covid-Model_dataset/Train/Normal/IM-0372-0001.jpeg  \n",
            "  inflating: Covid-Model_dataset/Train/Normal/IM-0374-0001.jpeg  \n",
            "  inflating: Covid-Model_dataset/Train/Normal/IM-0375-0001.jpeg  \n",
            "  inflating: Covid-Model_dataset/Train/Normal/IM-0377-0001.jpeg  \n",
            "  inflating: Covid-Model_dataset/Train/Normal/IM-0379-0001.jpeg  \n",
            "  inflating: Covid-Model_dataset/Train/Normal/IM-0381-0001.jpeg  \n",
            "  inflating: Covid-Model_dataset/Train/Normal/IM-0382-0001.jpeg  \n",
            "  inflating: Covid-Model_dataset/Train/Normal/IM-0383-0001.jpeg  \n",
            "  inflating: Covid-Model_dataset/Train/Normal/IM-0384-0001.jpeg  \n",
            "  inflating: Covid-Model_dataset/Train/Normal/IM-0385-0001.jpeg  \n",
            "  inflating: Covid-Model_dataset/Train/Normal/IM-0386-0001.jpeg  \n",
            "  inflating: Covid-Model_dataset/Train/Normal/IM-0387-0001.jpeg  \n",
            "  inflating: Covid-Model_dataset/Train/Normal/IM-0388-0001.jpeg  \n",
            "   creating: Covid-Model_dataset/Train/positive/\n",
            "  inflating: Covid-Model_dataset/Train/positive/10.1016-slash-j.anl.2020.04.002-a.png  \n",
            "  inflating: Covid-Model_dataset/Train/positive/10.1016-slash-j.crad.2020.04.002-a.png  \n",
            "  inflating: Covid-Model_dataset/Train/positive/10.1016-slash-j.crad.2020.04.002-b.png  \n",
            "  inflating: Covid-Model_dataset/Train/positive/1052b0fe.jpg  \n",
            "  inflating: Covid-Model_dataset/Train/positive/1141cc2b8b9cc394becce5d978b5a7_jumbo.jpeg  \n",
            "  inflating: Covid-Model_dataset/Train/positive/12941_2020_358_Fig1_HTML.jpg  \n",
            "  inflating: Covid-Model_dataset/Train/positive/1312A392-67A3-4EBF-9319-810CF6DA5EF6.jpeg  \n",
            "  inflating: Covid-Model_dataset/Train/positive/14d81f378173b86cc53f21d2d67040_jumbo.jpeg  \n",
            "  inflating: Covid-Model_dataset/Train/positive/16660_1_1.jpg  \n",
            "  inflating: Covid-Model_dataset/Train/positive/16660_2_1.jpg  \n",
            "  inflating: Covid-Model_dataset/Train/positive/16660_3_1.jpg  \n",
            "  inflating: Covid-Model_dataset/Train/positive/16660_4_1.jpg  \n",
            "  inflating: Covid-Model_dataset/Train/positive/16660_5_1.jpg  \n",
            "  inflating: Covid-Model_dataset/Train/positive/16663_1_1.jpg  \n",
            "  inflating: Covid-Model_dataset/Train/positive/16664_1_1.jpg  \n",
            "  inflating: Covid-Model_dataset/Train/positive/16669_3_1.jpeg  \n",
            "  inflating: Covid-Model_dataset/Train/positive/16672_1_1.jpg  \n",
            "  inflating: Covid-Model_dataset/Train/positive/16708_1_1.jpg  \n",
            "  inflating: Covid-Model_dataset/Train/positive/16708_4_1.jpg  \n",
            "  inflating: Covid-Model_dataset/Train/positive/16708_5_1.jpg  \n",
            "  inflating: Covid-Model_dataset/Train/positive/16745_5_1.png  \n",
            "  inflating: Covid-Model_dataset/Train/positive/16747_1_1.jpg  \n",
            "  inflating: Covid-Model_dataset/Train/positive/16865_1_1.jpg  \n",
            "  inflating: Covid-Model_dataset/Train/positive/16953_3_1.jpg  \n",
            "  inflating: Covid-Model_dataset/Train/positive/16953_4_1.jpg  \n",
            "  inflating: Covid-Model_dataset/Train/positive/16953_5_1.jpg  \n",
            "  inflating: Covid-Model_dataset/Train/positive/19abe1f3.jpg  \n",
            "  inflating: Covid-Model_dataset/Train/positive/2168a917.jpg  \n",
            "  inflating: Covid-Model_dataset/Train/positive/23E99E2E-447C-46E5-8EB2-D35D12473C39.png  \n",
            "  inflating: Covid-Model_dataset/Train/positive/2966893D-5DDF-4B68-9E2B-4979D5956C8E.jpeg  \n",
            "  inflating: Covid-Model_dataset/Train/positive/353889E0-A1E8-4F9E-A0B8-F24F36BCFBFB.jpeg  \n",
            "  inflating: Covid-Model_dataset/Train/positive/40779_2020_233_Fig2_HTML-a.png  \n",
            "  inflating: Covid-Model_dataset/Train/positive/41182_2020_203_Fig3_HTML.jpg  \n",
            "  inflating: Covid-Model_dataset/Train/positive/41182_2020_203_Fig4_HTML.jpg  \n",
            "  inflating: Covid-Model_dataset/Train/positive/41182_2020_203_Fig5_HTML.jpg  \n",
            "  inflating: Covid-Model_dataset/Train/positive/41379_2020_536_Fig2_HTML-c1.png  \n",
            "  inflating: Covid-Model_dataset/Train/positive/41591_2020_819_Fig1_HTML.webp-day10.png  \n",
            "  inflating: Covid-Model_dataset/Train/positive/41591_2020_819_Fig1_HTML.webp-day5.png  \n",
            "  inflating: Covid-Model_dataset/Train/positive/441c9cdd.jpg  \n",
            "  inflating: Covid-Model_dataset/Train/positive/48c4542c.jpg  \n",
            "  inflating: Covid-Model_dataset/Train/positive/53EC07C9-5CC6-4BE4-9B6F-D7B0D72AAA7E.jpeg  \n",
            "  inflating: Covid-Model_dataset/Train/positive/5782ae15.jpg  \n",
            "  inflating: Covid-Model_dataset/Train/positive/58cb9263f16e94305c730685358e4e_jumbo.jpeg  \n",
            "  inflating: Covid-Model_dataset/Train/positive/7afaaccc.jpg  \n",
            "  inflating: Covid-Model_dataset/Train/positive/7C69C012-7479-493F-8722-ABC29C60A2DD.jpeg  \n",
            "  inflating: Covid-Model_dataset/Train/positive/7-fatal-covid19.jpg  \n",
            "  inflating: Covid-Model_dataset/Train/positive/80446565-E090-4187-A031-9D3CEAA586C8.jpeg  \n",
            "  inflating: Covid-Model_dataset/Train/positive/80b5f00f.jpg  \n",
            "  inflating: Covid-Model_dataset/Train/positive/82a78c13.jpg  \n",
            "  inflating: Covid-Model_dataset/Train/positive/88de9d8c39e946abd495b37cd07d89e5-2ee6-0.jpg  \n",
            "  inflating: Covid-Model_dataset/Train/positive/88de9d8c39e946abd495b37cd07d89e5-6531-0.jpg  \n",
            "  inflating: Covid-Model_dataset/Train/positive/8da14fff.jpg  \n",
            "  inflating: Covid-Model_dataset/Train/positive/8fc103ca.jpg  \n",
            "  inflating: Covid-Model_dataset/Train/positive/8FDE8DBA-CFBD-4B4C-B1A4-6F36A93B7E87.jpeg  \n",
            "  inflating: Covid-Model_dataset/Train/positive/90986ce4.jpg  \n",
            "  inflating: Covid-Model_dataset/Train/positive/93FE0BB1-022D-4F24-9727-987A07975FFB.jpeg  \n",
            "  inflating: Covid-Model_dataset/Train/positive/9C34AF49-E589-44D5-92D3-168B3B04E4A6.jpeg  \n",
            "  inflating: Covid-Model_dataset/Train/positive/9fdd3c3032296fd04d2cad5d9070d4_jumbo.jpeg  \n",
            "  inflating: Covid-Model_dataset/Train/positive/a2eba651.jpg  \n",
            "  inflating: Covid-Model_dataset/Train/positive/a361d7b7.jpg  \n",
            "  inflating: Covid-Model_dataset/Train/positive/a8ac1969.jpg  \n",
            "  inflating: Covid-Model_dataset/Train/positive/ac4f6e4e.jpg  \n",
            "  inflating: Covid-Model_dataset/Train/positive/ae6c954c0039de4b5edee53865ffee43-e6c8-0.jpg  \n",
            "  inflating: Covid-Model_dataset/Train/positive/all14238-fig-0001-m-b.jpg  \n",
            "  inflating: Covid-Model_dataset/Train/positive/all14238-fig-0001-m-c.jpg  \n",
            "  inflating: Covid-Model_dataset/Train/positive/AR-1.jpg  \n",
            "  inflating: Covid-Model_dataset/Train/positive/AR-2.jpg  \n",
            "  inflating: Covid-Model_dataset/Train/positive/article_river_e4d185c06e3511eaa2321d8ab357a1de-c1mn.png  \n",
            "  inflating: Covid-Model_dataset/Train/positive/auntminnie-a-2020_01_28_23_51_6665_2020_01_28_Vietnam_coronavirus.jpeg  \n",
            "  inflating: Covid-Model_dataset/Train/positive/auntminnie-b-2020_01_28_23_51_6665_2020_01_28_Vietnam_coronavirus.jpeg  \n",
            "  inflating: Covid-Model_dataset/Train/positive/auntminnie-c-2020_01_28_23_51_6665_2020_01_28_Vietnam_coronavirus.jpeg  \n",
            "  inflating: Covid-Model_dataset/Train/positive/auntminnie-d-2020_01_28_23_51_6665_2020_01_28_Vietnam_coronavirus.jpeg  \n",
            "  inflating: Covid-Model_dataset/Train/positive/b0f1684d1ee90dc09deef015e29dae_jumbo.jpeg  \n",
            "  inflating: Covid-Model_dataset/Train/positive/b9673e89.jpg  \n",
            "  inflating: Covid-Model_dataset/Train/positive/bb0e626a.jpg  \n",
            "  inflating: Covid-Model_dataset/Train/positive/bd10d5e2.jpg  \n",
            "  inflating: Covid-Model_dataset/Train/positive/BMJ-37-163-g1.jpg  \n",
            "  inflating: Covid-Model_dataset/Train/positive/c0f74558.jpg  \n",
            "  inflating: Covid-Model_dataset/Train/positive/c3829ecb.jpg  \n",
            "  inflating: Covid-Model_dataset/Train/positive/c601f50d.jpg  \n",
            "  inflating: Covid-Model_dataset/Train/positive/CD50BA96-6982-4C80-AE7B-5F67ACDBFA56.jpeg  \n",
            "  inflating: Covid-Model_dataset/Train/positive/ciaa199.pdf-001-a.png  \n",
            "  inflating: Covid-Model_dataset/Train/positive/ciaa199.pdf-001-b.png  \n",
            "  inflating: Covid-Model_dataset/Train/positive/covid-19-caso-70-1-PA.jpg  \n",
            "  inflating: Covid-Model_dataset/Train/positive/covid-19-caso-82-1-8.png  \n",
            "  inflating: Covid-Model_dataset/Train/positive/covid-19-caso-91-1-12.png  \n",
            "  inflating: Covid-Model_dataset/Train/positive/covid-19-caso-94-1-14.png  \n",
            "  inflating: Covid-Model_dataset/Train/positive/covid-19-caso-95-1-15.png  \n",
            "  inflating: Covid-Model_dataset/Train/positive/covid-19-caso-95-3-14.png  \n",
            "  inflating: Covid-Model_dataset/Train/positive/covid-19-infection-exclusive-gastrointestinal-symptoms-pa.png  \n",
            "  inflating: Covid-Model_dataset/Train/positive/covid-19-pneumonia-14-PA.png  \n",
            "  inflating: Covid-Model_dataset/Train/positive/covid-19-pneumonia-15-PA.jpg  \n",
            "  inflating: Covid-Model_dataset/Train/positive/covid-19-pneumonia-20.jpg  \n",
            "  inflating: Covid-Model_dataset/Train/positive/covid-19-pneumonia-20-pa-on-admission.jpg  \n",
            "  inflating: Covid-Model_dataset/Train/positive/covid-19-pneumonia-22-day1-pa.png  \n",
            "  inflating: Covid-Model_dataset/Train/positive/covid-19-pneumonia-22-day2-pa.png  \n",
            "  inflating: Covid-Model_dataset/Train/positive/covid-19-pneumonia-28.png  \n",
            "  inflating: Covid-Model_dataset/Train/positive/covid-19-pneumonia-30-PA.jpg  \n",
            "  inflating: Covid-Model_dataset/Train/positive/covid-19-pneumonia-35-1.jpg  \n",
            "  inflating: Covid-Model_dataset/Train/positive/covid-19-pneumonia-35-2.jpg  \n",
            "  inflating: Covid-Model_dataset/Train/positive/covid-19-pneumonia-38-pa.jpg  \n",
            "  inflating: Covid-Model_dataset/Train/positive/covid-19-pneumonia-44-day-0.jpeg  \n",
            "  inflating: Covid-Model_dataset/Train/positive/covid-19-pneumonia-53.jpg  \n",
            "  inflating: Covid-Model_dataset/Train/positive/covid-19-pneumonia-7-PA.jpg  \n",
            "  inflating: Covid-Model_dataset/Train/positive/covid-19-pneumonia-8.jpg  \n",
            "  inflating: Covid-Model_dataset/Train/positive/covid-19-pneumonia-93.png  \n",
            "  inflating: Covid-Model_dataset/Train/positive/covid-19-pneumonia-evolution-over-a-week-1-day0-PA.jpg  \n",
            "  inflating: Covid-Model_dataset/Train/positive/covid-19-pneumonia-mild.JPG  \n",
            "  inflating: Covid-Model_dataset/Train/positive/covid-19-pneumonia-rapidly-progressive-12-hours.jpg  \n",
            "  inflating: Covid-Model_dataset/Train/positive/covid-19-pneumonia-rapidly-progressive-3-days.jpg  \n",
            "  inflating: Covid-Model_dataset/Train/positive/covid-19-pneumonia-rapidly-progressive-admission.jpg  \n",
            "  inflating: Covid-Model_dataset/Train/positive/covid-19-rapidly-progressive-acute-respiratory-distress-syndrome-ards-admission.jpg  \n",
            "  inflating: Covid-Model_dataset/Train/positive/covid-19-rapidly-progressive-acute-respiratory-distress-syndrome-ards-day-1.jpg  \n",
            "  inflating: Covid-Model_dataset/Train/positive/covid-19-rapidly-progressive-acute-respiratory-distress-syndrome-ards-day-2.jpg  \n",
            "  inflating: Covid-Model_dataset/Train/positive/covid-19-rapidly-progressive-acute-respiratory-distress-syndrome-ards-day-3.jpg  \n",
            "  inflating: Covid-Model_dataset/Train/positive/d009d61f.jpg  \n",
            "  inflating: Covid-Model_dataset/Train/positive/d9d6ca9a.jpg  \n",
            "  inflating: Covid-Model_dataset/Train/positive/e1446fe8.jpg  \n",
            "  inflating: Covid-Model_dataset/Train/positive/E63574A7-4188-4C8D-8D17-9D67A18A1AFA.jpeg  \n",
            "  inflating: Covid-Model_dataset/Train/positive/ec083e35.jpg  \n",
            "  inflating: Covid-Model_dataset/Train/positive/extubation-1.jpg  \n",
            "  inflating: Covid-Model_dataset/Train/positive/extubation-13.jpg  \n",
            "  inflating: Covid-Model_dataset/Train/positive/extubation-4.jpg  \n",
            "  inflating: Covid-Model_dataset/Train/positive/extubation-8.jpg  \n",
            "  inflating: Covid-Model_dataset/Train/positive/F4341CE7-73C9-45C6-99C8-8567A5484B63.jpeg  \n",
            "  inflating: Covid-Model_dataset/Train/positive/f64132c8.jpg  \n",
            "  inflating: Covid-Model_dataset/Train/positive/f6575117.jpg  \n",
            "  inflating: Covid-Model_dataset/Train/positive/f6d980a0.jpg  \n",
            "  inflating: Covid-Model_dataset/Train/positive/f8335316.jpg  \n",
            "  inflating: Covid-Model_dataset/Train/positive/FE9F9A5D-2830-46F9-851B-1FF4534959BE.jpeg  \n",
            "  inflating: Covid-Model_dataset/Train/positive/fff49165-b22d-4bb4-b9d1-d5d62c52436c.annot.original.png  \n",
            "  inflating: Covid-Model_dataset/Train/positive/figure1-5e71be566aa8714a04de3386-98-left.jpeg  \n",
            "  inflating: Covid-Model_dataset/Train/positive/figure1-5e75d0940b71e1b702629659-98-right.jpeg  \n",
            "  inflating: Covid-Model_dataset/Train/positive/gr1_lrg-a.jpg  \n",
            "  inflating: Covid-Model_dataset/Train/positive/gr1_lrg-b.jpg  \n",
            "  inflating: Covid-Model_dataset/Train/positive/kjr-21-e25-g001-l-a.jpg  \n",
            "  inflating: Covid-Model_dataset/Train/positive/lancet-case2a.jpg  \n",
            "  inflating: Covid-Model_dataset/Train/positive/lancet-case2b.jpg  \n",
            "  inflating: Covid-Model_dataset/Train/positive/nCoV-radiol.2020200269.fig1-day7.jpeg  \n",
            "  inflating: Covid-Model_dataset/Train/positive/nejmc2001573_f1a.jpeg  \n",
            "  inflating: Covid-Model_dataset/Train/positive/nejmc2001573_f1b.jpeg  \n",
            "  inflating: Covid-Model_dataset/Train/positive/nejmoa2001191_f1-PA.jpeg  \n",
            "  inflating: Covid-Model_dataset/Train/positive/nejmoa2001191_f3-PA.jpeg  \n",
            "  inflating: Covid-Model_dataset/Train/positive/nejmoa2001191_f4.jpeg  \n",
            "  inflating: Covid-Model_dataset/Train/positive/nejmoa2001191_f5-PA.jpeg  \n",
            "  inflating: Covid-Model_dataset/Train/positive/paving.jpg  \n",
            "  inflating: Covid-Model_dataset/Train/positive/radiol.2020200274.fig3d.png  \n",
            "  inflating: Covid-Model_dataset/Train/positive/radiol.2020200490.fig3.jpeg  \n",
            "  inflating: Covid-Model_dataset/Train/positive/ryct.2020003.fig2-a.png  \n",
            "  inflating: Covid-Model_dataset/Train/positive/ryct.2020003.fig2-b.png  \n",
            "  inflating: Covid-Model_dataset/Train/positive/ryct.2020003.fig2-c.png  \n",
            "  inflating: Covid-Model_dataset/Train/positive/ryct.2020200028.fig1a.jpeg  \n",
            "  inflating: Covid-Model_dataset/Train/positive/ryct.2020200034.fig2.jpeg  \n",
            "  inflating: Covid-Model_dataset/Train/positive/ryct.2020200034.fig5-day0.jpeg  \n",
            "  inflating: Covid-Model_dataset/Train/positive/ryct.2020200034.fig5-day4.jpeg  \n",
            "  inflating: Covid-Model_dataset/Train/positive/ryct.2020200034.fig5-day7.jpeg  \n",
            "  inflating: Covid-Model_dataset/Train/positive/thnov10p5641g006-c.png  \n",
            "  inflating: Covid-Model_dataset/Train/positive/tpmd200203f2-b.png  \n",
            "  inflating: Covid-Model_dataset/Train/positive/tpmd200203f2-c.png  \n",
            "  inflating: Covid-Model_dataset/Train/positive/yxppt-2020-02-19_00-51-27_287214-day8.jpg  \n"
          ],
          "name": "stdout"
        }
      ]
    },
    {
      "cell_type": "code",
      "metadata": {
        "id": "_67Rk7SinchY"
      },
      "source": [
        "TRAIN_PATH = \"Covid-Model_dataset/Train\"\r\n",
        "VAL_PATH = \"Covid-Model_datasett/Test\"\r\n"
      ],
      "execution_count": null,
      "outputs": []
    },
    {
      "cell_type": "code",
      "metadata": {
        "id": "Km_xjtdFoiaU"
      },
      "source": [
        "import numpy as np\r\n",
        "import matplotlib.pyplot as plt\r\n",
        "import keras\r\n",
        "from keras.layers import *\r\n",
        "from keras.models import * \r\n",
        "from keras.preprocessing import image"
      ],
      "execution_count": null,
      "outputs": []
    },
    {
      "cell_type": "code",
      "metadata": {
        "id": "73PPFs4mou5o"
      },
      "source": [
        "model=Sequential()\r\n",
        "model.add(Conv2D(45,kernel_size=(3,3),activation='relu',input_shape=(224,224,3))) \r\n",
        "model.add(Conv2D(90,kernel_size=(3,3),activation='relu'))\r\n",
        "model.add(MaxPooling2D(pool_size=(2,2))) \r\n",
        "model.add(Dropout(0.25))\r\n",
        "\r\n",
        "model.add(Conv2D(180,(3,3),activation='relu'))\r\n",
        "model.add(MaxPooling2D(pool_size=(2,2))) \r\n",
        "model.add(Dropout(0.25))\r\n",
        "\r\n",
        "model.add(Conv2D(360,(3,3),activation='relu'))\r\n",
        "model.add(MaxPooling2D(pool_size=(2,2))) \r\n",
        "model.add(Dropout(0.25))\r\n",
        "\r\n",
        "model.add(Flatten())\r\n",
        "model.add(Dense(64,activation='relu'))\r\n",
        "model.add(Dropout(0.5))\r\n",
        "model.add(Dense(1,activation='sigmoid'))\r\n",
        "\r\n",
        "model.compile(loss=keras.losses.binary_crossentropy,optimizer='adam',metrics=['accuracy'])"
      ],
      "execution_count": null,
      "outputs": []
    },
    {
      "cell_type": "code",
      "metadata": {
        "colab": {
          "base_uri": "https://localhost:8080/"
        },
        "id": "ZrGDIHzyYV_b",
        "outputId": "fda77b24-955d-4d12-ad63-6ac7e1aba856"
      },
      "source": [
        "model.summary()"
      ],
      "execution_count": null,
      "outputs": [
        {
          "output_type": "stream",
          "text": [
            "Model: \"sequential\"\n",
            "_________________________________________________________________\n",
            "Layer (type)                 Output Shape              Param #   \n",
            "=================================================================\n",
            "conv2d (Conv2D)              (None, 222, 222, 45)      1260      \n",
            "_________________________________________________________________\n",
            "conv2d_1 (Conv2D)            (None, 220, 220, 90)      36540     \n",
            "_________________________________________________________________\n",
            "max_pooling2d (MaxPooling2D) (None, 110, 110, 90)      0         \n",
            "_________________________________________________________________\n",
            "dropout (Dropout)            (None, 110, 110, 90)      0         \n",
            "_________________________________________________________________\n",
            "conv2d_2 (Conv2D)            (None, 108, 108, 180)     145980    \n",
            "_________________________________________________________________\n",
            "max_pooling2d_1 (MaxPooling2 (None, 54, 54, 180)       0         \n",
            "_________________________________________________________________\n",
            "dropout_1 (Dropout)          (None, 54, 54, 180)       0         \n",
            "_________________________________________________________________\n",
            "conv2d_3 (Conv2D)            (None, 52, 52, 360)       583560    \n",
            "_________________________________________________________________\n",
            "max_pooling2d_2 (MaxPooling2 (None, 26, 26, 360)       0         \n",
            "_________________________________________________________________\n",
            "dropout_2 (Dropout)          (None, 26, 26, 360)       0         \n",
            "_________________________________________________________________\n",
            "flatten (Flatten)            (None, 243360)            0         \n",
            "_________________________________________________________________\n",
            "dense (Dense)                (None, 64)                15575104  \n",
            "_________________________________________________________________\n",
            "dropout_3 (Dropout)          (None, 64)                0         \n",
            "_________________________________________________________________\n",
            "dense_1 (Dense)              (None, 1)                 65        \n",
            "=================================================================\n",
            "Total params: 16,342,509\n",
            "Trainable params: 16,342,509\n",
            "Non-trainable params: 0\n",
            "_________________________________________________________________\n"
          ],
          "name": "stdout"
        }
      ]
    },
    {
      "cell_type": "code",
      "metadata": {
        "id": "Vku1c0yNYtAi"
      },
      "source": [
        "train_datagen=image"
      ],
      "execution_count": null,
      "outputs": []
    },
    {
      "cell_type": "code",
      "metadata": {
        "id": "0nKkjRJna1AB"
      },
      "source": [
        "train_datagen = image.ImageDataGenerator(\r\n",
        "    rescale = 1./255,\r\n",
        "    shear_range = 0.2,\r\n",
        "    zoom_range = 0.2,\r\n",
        "    horizontal_flip = True,\r\n",
        ")\r\n",
        "\r\n",
        "test_dataset = image.ImageDataGenerator(rescale=1./255)"
      ],
      "execution_count": null,
      "outputs": []
    },
    {
      "cell_type": "code",
      "metadata": {
        "colab": {
          "base_uri": "https://localhost:8080/"
        },
        "id": "6lmbXcZ8a2H5",
        "outputId": "f2e77376-f984-49ef-d489-aa763890f0ed"
      },
      "source": [
        "train_generator = train_datagen.flow_from_directory(\r\n",
        "    'Covid-Model_dataset/Train',\r\n",
        "    target_size = (224,224),\r\n",
        "    batch_size = 32,\r\n",
        "    class_mode = 'binary')"
      ],
      "execution_count": null,
      "outputs": [
        {
          "output_type": "stream",
          "text": [
            "Found 320 images belonging to 2 classes.\n"
          ],
          "name": "stdout"
        }
      ]
    },
    {
      "cell_type": "code",
      "metadata": {
        "colab": {
          "base_uri": "https://localhost:8080/"
        },
        "id": "K8maECIkbICU",
        "outputId": "065ce7b9-5555-48dc-c79f-af58f04c4533"
      },
      "source": [
        "train_generator.class_indices"
      ],
      "execution_count": null,
      "outputs": [
        {
          "output_type": "execute_result",
          "data": {
            "text/plain": [
              "{'Normal': 0, 'positive': 1}"
            ]
          },
          "metadata": {
            "tags": []
          },
          "execution_count": 10
        }
      ]
    },
    {
      "cell_type": "code",
      "metadata": {
        "colab": {
          "base_uri": "https://localhost:8080/"
        },
        "id": "Vxd_TJOsj_9v",
        "outputId": "191e39a7-f899-4a33-c78d-a672822616ac"
      },
      "source": [
        "validation_generator = test_dataset.flow_from_directory(\r\n",
        "    'Covid-Model_dataset/Test',\r\n",
        "    target_size = (224,224),\r\n",
        "    batch_size = 32,\r\n",
        "    class_mode = 'binary')"
      ],
      "execution_count": null,
      "outputs": [
        {
          "output_type": "stream",
          "text": [
            "Found 72 images belonging to 2 classes.\n"
          ],
          "name": "stdout"
        }
      ]
    },
    {
      "cell_type": "code",
      "metadata": {
        "colab": {
          "base_uri": "https://localhost:8080/"
        },
        "id": "xIFYGh76kIuO",
        "outputId": "fb23a243-1053-479e-b12d-865c96790c52"
      },
      "source": [
        "hist = model.fit_generator(\r\n",
        "    train_generator,\r\n",
        "    steps_per_epoch=10,\r\n",
        "    epochs = 12,\r\n",
        "    validation_data = validation_generator,\r\n",
        "    validation_steps=2\r\n",
        ")"
      ],
      "execution_count": null,
      "outputs": [
        {
          "output_type": "stream",
          "text": [
            "/usr/local/lib/python3.6/dist-packages/tensorflow/python/keras/engine/training.py:1844: UserWarning: `Model.fit_generator` is deprecated and will be removed in a future version. Please use `Model.fit`, which supports generators.\n",
            "  warnings.warn('`Model.fit_generator` is deprecated and '\n"
          ],
          "name": "stderr"
        },
        {
          "output_type": "stream",
          "text": [
            "Epoch 1/12\n",
            "10/10 [==============================] - 247s 25s/step - loss: 0.5625 - accuracy: 0.7063 - val_loss: 0.3320 - val_accuracy: 0.9375\n",
            "Epoch 2/12\n",
            "10/10 [==============================] - 245s 25s/step - loss: 0.3766 - accuracy: 0.8656 - val_loss: 0.1910 - val_accuracy: 0.9688\n",
            "Epoch 3/12\n",
            "10/10 [==============================] - 248s 25s/step - loss: 0.2282 - accuracy: 0.9219 - val_loss: 0.2163 - val_accuracy: 0.9844\n",
            "Epoch 4/12\n",
            "10/10 [==============================] - 245s 25s/step - loss: 0.1639 - accuracy: 0.9312 - val_loss: 0.0693 - val_accuracy: 0.9844\n",
            "Epoch 5/12\n",
            "10/10 [==============================] - 246s 25s/step - loss: 0.1219 - accuracy: 0.9688 - val_loss: 0.0751 - val_accuracy: 0.9844\n",
            "Epoch 6/12\n",
            "10/10 [==============================] - 244s 24s/step - loss: 0.1339 - accuracy: 0.9531 - val_loss: 0.0373 - val_accuracy: 0.9844\n",
            "Epoch 7/12\n",
            "10/10 [==============================] - 244s 24s/step - loss: 0.1270 - accuracy: 0.9469 - val_loss: 0.1625 - val_accuracy: 0.9375\n",
            "Epoch 8/12\n",
            "10/10 [==============================] - 246s 24s/step - loss: 0.1311 - accuracy: 0.9625 - val_loss: 0.0415 - val_accuracy: 1.0000\n",
            "Epoch 9/12\n",
            "10/10 [==============================] - 244s 24s/step - loss: 0.0852 - accuracy: 0.9688 - val_loss: 0.0553 - val_accuracy: 0.9844\n",
            "Epoch 10/12\n",
            "10/10 [==============================] - 246s 25s/step - loss: 0.1090 - accuracy: 0.9563 - val_loss: 0.0866 - val_accuracy: 0.9688\n",
            "Epoch 11/12\n",
            "10/10 [==============================] - 244s 24s/step - loss: 0.0888 - accuracy: 0.9656 - val_loss: 0.0350 - val_accuracy: 0.9688\n",
            "Epoch 12/12\n",
            "10/10 [==============================] - 244s 24s/step - loss: 0.0682 - accuracy: 0.9688 - val_loss: 0.0496 - val_accuracy: 0.9844\n"
          ],
          "name": "stdout"
        }
      ]
    },
    {
      "cell_type": "code",
      "metadata": {
        "id": "hIZbuyORkKqa"
      },
      "source": [
        ""
      ],
      "execution_count": null,
      "outputs": []
    }
  ]
}